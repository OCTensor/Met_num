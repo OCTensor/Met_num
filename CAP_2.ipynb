{
 "cells": [
  {
   "cell_type": "markdown",
   "metadata": {},
   "source": [
    "# Imports padrão do python"
   ]
  },
  {
   "cell_type": "code",
   "execution_count": null,
   "metadata": {},
   "outputs": [],
   "source": [
    "import numpy as np\n",
    "import math as mt"
   ]
  },
  {
   "cell_type": "markdown",
   "metadata": {},
   "source": [
    "# 2.1.1: Numeração decimal ou base 10"
   ]
  },
  {
   "cell_type": "code",
   "execution_count": 47,
   "metadata": {},
   "outputs": [],
   "source": [
    "# Função demonstrativa\n",
    "\n",
    "def num_dec(n):\n",
    "    resultado_total = 0\n",
    "    concatenar_string = str()\n",
    "    n = str(n)\n",
    "    \n",
    "    a = 0\n",
    "    for i in n:\n",
    "        a+=1\n",
    "        \n",
    "    p = a - 1\n",
    "    \n",
    "    total = str(f'{i} x 10^{p}')\n",
    "    \n",
    "    for i in n:\n",
    "        concatenar_string += total\n",
    "        result = int(i)*10**p\n",
    "        print(f'Temos ::: {i} x 10^{p} = {result}')\n",
    "        total = str(f' + {i} x 10^{p}')\n",
    "\n",
    "        p-=1\n",
    "    \n",
    "        resultado_total += result\n",
    "\n",
    "    print(f'segue ::: {concatenar_string}')\n",
    "    print(f'Resultado final temos ::: {resultado_total}')"
   ]
  },
  {
   "cell_type": "markdown",
   "metadata": {},
   "source": [
    "## exemplo da apostilha"
   ]
  },
  {
   "cell_type": "code",
   "execution_count": 48,
   "metadata": {},
   "outputs": [
    {
     "name": "stdout",
     "output_type": "stream",
     "text": [
      "Temos ::: 1 x 10^3 = 1000\n",
      "Temos ::: 6 x 10^2 = 600\n",
      "Temos ::: 9 x 10^1 = 90\n",
      "Temos ::: 3 x 10^0 = 3\n",
      "segue ::: 3 x 10^3 + 1 x 10^3 + 6 x 10^2 + 9 x 10^1\n",
      "Resultado final temos ::: 1693\n"
     ]
    }
   ],
   "source": [
    "num_dec(1693)"
   ]
  },
  {
   "cell_type": "markdown",
   "metadata": {},
   "source": [
    "# 2.1.2: Numeração binária ou base 2"
   ]
  },
  {
   "cell_type": "code",
   "execution_count": 81,
   "metadata": {},
   "outputs": [],
   "source": [
    "def num_bin_dois(n):\n",
    "    b = n\n",
    "    resultado_total = 0\n",
    "    concatenar_string = str()\n",
    "    n = str(n)\n",
    "    \n",
    "    a = 0\n",
    "    for i in n:\n",
    "        a+=1\n",
    "        \n",
    "    p = a - 1\n",
    "    \n",
    "    total = str(f'{i} x 2^{p}')\n",
    "    \n",
    "    if isinstance(b,int):\n",
    "        \n",
    "        for i in n:\n",
    "            concatenar_string += total\n",
    "            result = int(i)*2**p\n",
    "            print(f'Temos ::: {i} x 2^{p} = {result}')\n",
    "            total = str(f' + {i} x 2^{p}')\n",
    "\n",
    "            p-=1\n",
    "        \n",
    "            resultado_total += result\n",
    "    \n",
    "    else:\n",
    "        p = -2 # menos -2 para quando o 'for' percorrer ele configurar corretamente para  decimal\n",
    "        for i in n:\n",
    "            if i == '.':\n",
    "                p+=0\n",
    "            else:\n",
    "                p+=1\n",
    "                \n",
    "        for i in n:\n",
    "            if i == '.':\n",
    "                print('removendo ponto flutuante (,)') # ele varre até identificar o '.' e pula o mesmo\n",
    "            else:\n",
    "                concatenar_string += total\n",
    "                result = int(i)*2**p\n",
    "                print(f'Temos ::: {i} x 2^{p} = {result}')\n",
    "                total = str(f' + {i} x 2^{p}')\n",
    "\n",
    "                p -= 1\n",
    "            \n",
    "                resultado_total += result\n",
    "        \n",
    "    print(f'segue ::: {concatenar_string}')\n",
    "    print(f'Resultado final temos ::: ({resultado_total})_10')"
   ]
  },
  {
   "cell_type": "markdown",
   "metadata": {},
   "source": [
    "## Exemplo da apostilha"
   ]
  },
  {
   "cell_type": "code",
   "execution_count": 83,
   "metadata": {},
   "outputs": [
    {
     "name": "stdout",
     "output_type": "stream",
     "text": [
      "Temos ::: 1 x 2^3 = 8\n",
      "Temos ::: 0 x 2^2 = 0\n",
      "Temos ::: 1 x 2^1 = 2\n",
      "Temos ::: 1 x 2^0 = 1\n",
      "segue ::: 1 x 2^3 + 1 x 2^3 + 0 x 2^2 + 1 x 2^1\n",
      "Resultado final temos ::: (11)_10\n"
     ]
    }
   ],
   "source": [
    "num_bin_dois(1011)"
   ]
  },
  {
   "cell_type": "code",
   "execution_count": 110,
   "metadata": {},
   "outputs": [
    {
     "name": "stdout",
     "output_type": "stream",
     "text": [
      "Temos ::: 1 x 2^1 = 2\n",
      "Temos ::: 0 x 2^0 = 0\n",
      "removendo ponto flutuante (,)\n",
      "Temos ::: 1 x 2^-1 = 0.5\n",
      "segue ::: 1 x 2^3 + 1 x 2^1 + 0 x 2^0\n",
      "Resultado final temos ::: (2.5)_10\n"
     ]
    }
   ],
   "source": [
    "num_bin_dois(10.1)"
   ]
  },
  {
   "cell_type": "markdown",
   "metadata": {},
   "source": [
    "# 2.1.3: Conversão de binário em decimal"
   ]
  },
  {
   "cell_type": "markdown",
   "metadata": {},
   "source": [
    "## Exemplo apostilha"
   ]
  },
  {
   "cell_type": "code",
   "execution_count": 84,
   "metadata": {},
   "outputs": [
    {
     "name": "stdout",
     "output_type": "stream",
     "text": [
      "Temos ::: 1 x 2^4 = 16\n",
      "Temos ::: 0 x 2^3 = 0\n",
      "Temos ::: 1 x 2^2 = 4\n",
      "Temos ::: 1 x 2^1 = 2\n",
      "Temos ::: 1 x 2^0 = 1\n",
      "segue ::: 1 x 2^4 + 1 x 2^4 + 0 x 2^3 + 1 x 2^2 + 1 x 2^1\n",
      "Resultado final temos ::: (23)_10\n"
     ]
    }
   ],
   "source": [
    "#Segue o mesmo código anterior para caso de binário para decimal\n",
    "\n",
    "num_bin_dois(10111)"
   ]
  },
  {
   "cell_type": "markdown",
   "metadata": {},
   "source": [
    "# 2.1.4: Conversão de decimal para binário"
   ]
  },
  {
   "cell_type": "code",
   "execution_count": 111,
   "metadata": {},
   "outputs": [],
   "source": [
    "def conv_dec_bin(n):\n",
    "    \n",
    "    if isinstance(n,int):\n",
    "    \n",
    "        resultado = str()\n",
    "        while n != 0:\n",
    "            print(f'N ::: {n}')\n",
    "            a = n/2\n",
    "            print(f'divisão ::: {a}') # divisão\n",
    "            b = int(a) # divisor\n",
    "            print(f'divisor ::: {b}')\n",
    "            c = n % 2 # resto da divisão\n",
    "            print(f'resto ::: {c}')\n",
    "            n = b\n",
    "            \n",
    "            resultado += str(c)\n",
    "    else:\n",
    "        print('Não foi implementado o método fracionado pois o valor sempre vai dar 1')\n",
    "        \n",
    "    print(f'Resultado da conversão ::: {resultado}')"
   ]
  },
  {
   "cell_type": "markdown",
   "metadata": {},
   "source": [
    "## Exemplo da apostilha"
   ]
  },
  {
   "cell_type": "code",
   "execution_count": 114,
   "metadata": {},
   "outputs": [
    {
     "name": "stdout",
     "output_type": "stream",
     "text": [
      "N ::: 21\n",
      "divisão ::: 10.5\n",
      "divisor ::: 10\n",
      "resto ::: 1\n",
      "N ::: 10\n",
      "divisão ::: 5.0\n",
      "divisor ::: 5\n",
      "resto ::: 0\n",
      "N ::: 5\n",
      "divisão ::: 2.5\n",
      "divisor ::: 2\n",
      "resto ::: 1\n",
      "N ::: 2\n",
      "divisão ::: 1.0\n",
      "divisor ::: 1\n",
      "resto ::: 0\n",
      "N ::: 1\n",
      "divisão ::: 0.5\n",
      "divisor ::: 0\n",
      "resto ::: 1\n",
      "Resultado da conversão ::: 10101\n"
     ]
    }
   ],
   "source": [
    "conv_dec_bin(21)"
   ]
  },
  {
   "cell_type": "code",
   "execution_count": null,
   "metadata": {},
   "outputs": [],
   "source": []
  }
 ],
 "metadata": {
  "kernelspec": {
   "display_name": ".venv",
   "language": "python",
   "name": "python3"
  },
  "language_info": {
   "codemirror_mode": {
    "name": "ipython",
    "version": 3
   },
   "file_extension": ".py",
   "mimetype": "text/x-python",
   "name": "python",
   "nbconvert_exporter": "python",
   "pygments_lexer": "ipython3",
   "version": "3.11.2"
  }
 },
 "nbformat": 4,
 "nbformat_minor": 2
}
